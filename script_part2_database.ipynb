{
 "cells": [
  {
   "cell_type": "code",
   "execution_count": 38,
   "id": "01f942c5",
   "metadata": {},
   "outputs": [],
   "source": [
    "import os\n",
    "import sys\n",
    "import numpy as np\n",
    "import scipy as sp\n",
    "import scipy.stats as stats\n",
    "from scipy.stats import mannwhitneyu\n",
    "from scipy.stats import wilcoxon\n",
    "from scipy.stats import shapiro\n",
    "import pandas as pd\n",
    "import sklearn as sk\n",
    "import virtualenv\n",
    "import matplotlib\n",
    "import seaborn as sns\n",
    "import matplotlib.pyplot as plt\n",
    "import pysqlite3\n",
    "import sqlite3\n",
    "import pymysql as ps\n"
   ]
  },
  {
   "cell_type": "code",
   "execution_count": 39,
   "id": "ce14b35e",
   "metadata": {},
   "outputs": [
    {
     "name": "stdout",
     "output_type": "stream",
     "text": [
      "version of python\n",
      "3.9.13 (main, Oct 13 2022, 16:12:30) \n",
      "[Clang 12.0.0 ]\n"
     ]
    }
   ],
   "source": [
    "print(\"version of python\")\n",
    "print(sys.version)"
   ]
  },
  {
   "cell_type": "code",
   "execution_count": 41,
   "id": "70c5504a",
   "metadata": {},
   "outputs": [
    {
     "name": "stdout",
     "output_type": "stream",
     "text": [
      "  project subject condition  age sex treatment response sample sample_type  \\\n",
      "0    prj1    sbj1  melanoma   70   F       tr1        y     s1        PBMC   \n",
      "1    prj1    sbj1  melanoma   70   F       tr1        y     s2        PBMC   \n",
      "\n",
      "   time_from_treatment_start  b_cell  cd8_t_cell  cd4_t_cell  nk_cell  \\\n",
      "0                        0.0   36000       24000       42000     6000   \n",
      "1                        7.0   30000       22000       40000     2000   \n",
      "\n",
      "   monocyte  \n",
      "0     12000  \n",
      "1      6000  \n",
      "Index(['project', 'subject', 'condition', 'age', 'sex', 'treatment',\n",
      "       'response', 'sample', 'sample_type', 'time_from_treatment_start',\n",
      "       'b_cell', 'cd8_t_cell', 'cd4_t_cell', 'nk_cell', 'monocyte'],\n",
      "      dtype='object')\n"
     ]
    }
   ],
   "source": [
    "df = pd.read_csv(\"cell-count_copy.csv\")\n",
    "print(df.head(2))\n",
    "print(df.columns)"
   ]
  },
  {
   "cell_type": "code",
   "execution_count": 42,
   "id": "63efb216",
   "metadata": {},
   "outputs": [],
   "source": [
    "# To design a simple database, we can use the package sqlite3 "
   ]
  },
  {
   "cell_type": "code",
   "execution_count": 43,
   "id": "2217ed15",
   "metadata": {},
   "outputs": [],
   "source": [
    "# In the code below, we perform the following operations : \n",
    "# we create a new SQLite database that is named \"cell_counts.db\".\n",
    "# A table named \"cell_counts\" is created with columns corresponding to the DataFrame columns.\n",
    "# The data from the DataFrame is inserted into the SQLite table.\n",
    "# The data is then queried back from the database and displayed."
   ]
  },
  {
   "cell_type": "code",
   "execution_count": null,
   "id": "b2322ebe",
   "metadata": {},
   "outputs": [],
   "source": []
  },
  {
   "cell_type": "code",
   "execution_count": 44,
   "id": "fdf5faaa",
   "metadata": {},
   "outputs": [],
   "source": [
    "# How would you design a database to capture the type of information and data in cell-count.csv? \n",
    "# Imagine that you’d have hundreds of projects, thousands of samples and various types of analytics you’d want to perform, \n",
    "# including the example analysis of responders versus non-responders comparisons above. Please provide a rough prototype schema."
   ]
  },
  {
   "cell_type": "code",
   "execution_count": 45,
   "id": "5e92acd5",
   "metadata": {},
   "outputs": [
    {
     "name": "stdout",
     "output_type": "stream",
     "text": [
      "   project subject condition  age sex treatment response sample sample_type  \\\n",
      "0     prj1    sbj1  melanoma   70   F       tr1        y     s1        PBMC   \n",
      "1     prj1    sbj1  melanoma   70   F       tr1        y     s2        PBMC   \n",
      "2     prj1    sbj1  melanoma   70   F       tr1        y     s3        PBMC   \n",
      "3     prj1    sbj2   healthy   65   F      none     None     s4        PBMC   \n",
      "4     prj1    sbj3  melanoma   75   M       tr1        n     s5        PBMC   \n",
      "5     prj1    sbj3  melanoma   75   M       tr1        n     s6        PBMC   \n",
      "6     prj1    sbj4      lung   50   F       tr2        y     s7        PBMC   \n",
      "7     prj1    sbj4      lung   50   F       tr2        y     s8       tumor   \n",
      "8     prj1    sbj5   healthy   77   M      none     None     s9        PBMC   \n",
      "9     prj2    sbj6   healthy   45   M      none     None    s10        PBMC   \n",
      "10    prj2    sbj7   healthy   80   F      none     None    s11        PBMC   \n",
      "11    prj2    sbj8  melanoma   30   F       tr1        y    s12        PBMC   \n",
      "12    prj2    sbj9  melanoma   72   M       tr1        y    s13        PBMC   \n",
      "13    prj2   sbj10      lung   63   M       tr1        n    s14        PBMC   \n",
      "14    prj2   sbj11      lung   55   F       tr1        n    s15        PBMC   \n",
      "15    prj3   sbj12  melanoma   50   F       tr1        n    s16        PBMC   \n",
      "16    prj3   sbj13  melanoma   50   M       tr1        y    s17        PBMC   \n",
      "\n",
      "    time_from_treatment_start  b_cell  cd8_t_cell  cd4_t_cell  nk_cell  \\\n",
      "0                         0.0   36000       24000       42000     6000   \n",
      "1                         7.0   30000       22000       40000     2000   \n",
      "2                        14.0   35000       26250       37500    10000   \n",
      "3                         NaN   27900       17100       18000     4500   \n",
      "4                         0.0   60000       30000       37500     4500   \n",
      "5                         7.0   27500       24200       33000     5500   \n",
      "6                         0.0   31350       19000       23750     8550   \n",
      "7                         0.0   35000       23000       25000     6000   \n",
      "8                         NaN   45500       27300       32500     6500   \n",
      "9                         NaN   28420       21560       21560     8820   \n",
      "10                        NaN   26250       19950       29400     8400   \n",
      "11                        0.0   39600       22800       45600     6000   \n",
      "12                        0.0   31050       24150       47150     8050   \n",
      "13                        0.0   31000       20000       25000     3000   \n",
      "14                        0.0   28800       15200       20800     3200   \n",
      "15                        0.0   14000       20000       24000     4000   \n",
      "16                        0.0   32400       24000       40800    10800   \n",
      "\n",
      "    monocyte  \n",
      "0      12000  \n",
      "1       6000  \n",
      "2      16250  \n",
      "3      22500  \n",
      "4      18000  \n",
      "5      19800  \n",
      "6      12350  \n",
      "7      11000  \n",
      "8      18200  \n",
      "9      17640  \n",
      "10     21000  \n",
      "11      6000  \n",
      "12      4600  \n",
      "13     21000  \n",
      "14     12000  \n",
      "15     38000  \n",
      "16     12000  \n"
     ]
    }
   ],
   "source": [
    "# Connect to SQLite database ; let's call it \"TEIKO CELL COUNTS\"\n",
    "conn = sqlite3.connect('cell_counts.db')\n",
    "\n",
    "# Create a cursor object\n",
    "cursor = conn.cursor()\n",
    "\n",
    "# Create a table\n",
    "cursor.execute('''\n",
    "    CREATE TABLE cell_counts (\n",
    "        id INTEGER PRIMARY KEY AUTOINCREMENT,\n",
    "        project TEXT, \n",
    "        subject TEXT,\n",
    "        condition  TEXT, \n",
    "        age  TEXT,\n",
    "        sex  TEXT,\n",
    "        treatment  TEXT,\n",
    "        reponse  TEXT,\n",
    "        sample  TEXT,\n",
    "        sample_type  TEXT,\n",
    "        time_from_treatment_start  TEXT,\n",
    "        b_cell INTEGER,\n",
    "        cd8_t_cell INTEGER,\n",
    "        cd4_t_cell INTEGER,\n",
    "        nk_cell INTEGER,\n",
    "        monocyte INTEGER\n",
    "    )\n",
    "''')\n",
    "\n",
    "# \"to_sql\" : Insert DataFrame data into the TABLE\n",
    "df.to_sql('cell_counts', conn, index=False, if_exists='replace')\n",
    "\n",
    "# Commit the changes\n",
    "conn.commit()\n",
    "\n",
    "# Query data from the database\n",
    "query_result = pd.read_sql('SELECT * FROM cell_counts', conn)\n",
    "\n",
    "# Display the result\n",
    "print(query_result)\n",
    "\n",
    "# Close the connection\n",
    "# conn.close()"
   ]
  },
  {
   "cell_type": "code",
   "execution_count": 46,
   "id": "89f24667",
   "metadata": {},
   "outputs": [],
   "source": [
    "# This code will create an SQLite database with sqlalchemy\n",
    "# insert the DataFrame into a table named cell_counts. \n",
    "# The if_exists='replace' argument ensures that if the table already exists, it will be replaced\n",
    "\n",
    "# import pandas as pd\n",
    "# from sqlalchemy import create_engine\n",
    "\n",
    "# Create an SQLite database engine\n",
    "# engine = create_engine('sqlite:///cell_counts_alchemy.db', echo=True)\n",
    "\n",
    "# Convert the DataFrame to an SQLite table\n",
    "# df.to_sql('cell_counts', con=engine, index=False, if_exists='replace')\n",
    "\n",
    "# Commit changes and close the connection\n",
    "# engine.dispose()"
   ]
  },
  {
   "cell_type": "code",
   "execution_count": null,
   "id": "98865927",
   "metadata": {},
   "outputs": [],
   "source": []
  },
  {
   "cell_type": "code",
   "execution_count": 47,
   "id": "68c19da9",
   "metadata": {},
   "outputs": [],
   "source": [
    "# To answer the question : \"why to use a database and not a collection of  data frame\", we list several advantages and disadvatages : "
   ]
  },
  {
   "cell_type": "code",
   "execution_count": 48,
   "id": "d4233d33",
   "metadata": {},
   "outputs": [
    {
     "name": "stdout",
     "output_type": "stream",
     "text": [
      " \n",
      "      \n",
      "A . When to Use a Database:\n",
      "\n",
      "1 Data Persistence and Integrity :\n",
      "\n",
      "Databases are designed for persistent storage, ensuring that data remains intact even when the application is not running. \n",
      "      \n",
      "If your data involves complex relationships between entities, a relational database with multiple tables and established relationships \n",
      "is a more suitable choice. Databases enforce data integrity through constraints, ensuring accurate and consistent data.\n",
      "\n",
      "2 Scalability:\n",
      "\n",
      "Databases are designed to handle large volumes of data and concurrent access. \n",
      " \n",
      "3. Security:\n",
      "\n",
      "Databases offer built-in security features, including user authentication, access control, and encryption. \n",
      "      \n",
      "4. Querying and Indexing:\n",
      "\n",
      "Databases support efficient querying and indexing, making it easy to retrieve specific subsets of data based on conditions. \n",
      "\n",
      "\n"
     ]
    }
   ],
   "source": [
    "print(\"\"\" \n",
    "      \n",
    "A . When to Use a Database:\n",
    "\n",
    "1 Data Persistence and Integrity :\n",
    "\n",
    "Databases are designed for persistent storage, ensuring that data remains intact even when the application is not running. \n",
    "      \n",
    "If your data involves complex relationships between entities, a relational database with multiple tables and established relationships \n",
    "is a more suitable choice. Databases enforce data integrity through constraints, ensuring accurate and consistent data.\n",
    "\n",
    "2 Scalability:\n",
    "\n",
    "Databases are designed to handle large volumes of data and concurrent access. \n",
    " \n",
    "3. Security:\n",
    "\n",
    "Databases offer built-in security features, including user authentication, access control, and encryption. \n",
    "      \n",
    "4. Querying and Indexing:\n",
    "\n",
    "Databases support efficient querying and indexing, making it easy to retrieve specific subsets of data based on conditions. \n",
    "\n",
    "\"\"\") \n"
   ]
  },
  {
   "cell_type": "code",
   "execution_count": 49,
   "id": "b6c9242e",
   "metadata": {},
   "outputs": [
    {
     "name": "stdout",
     "output_type": "stream",
     "text": [
      " \n",
      "      \n",
      "B . When to Use a DataFrame (multiple DataFrames) :\n",
      "\n",
      "1. Small to Medium-Scale Data:\n",
      "\n",
      "For small to medium-scale datasets that can fit comfortably in memory, using a collection of DataFrames may be simple solution than setting up a database.\n",
      "     \n",
      "2. Prototyping and Development:\n",
      "\n",
      "During the early stages of development, using DataFrames is simpler.\n",
      "      \n",
      "3. Analytical Workflows:\n",
      "\n",
      "If our application involves extensive data analysis, and visualization, working with DataFrames in packages like Pandas is convenient. \n",
      "\n",
      "4. Single-User Applications:\n",
      "\n",
      "If our application is single-user and doesn't require concurrent access to the data, using a collection of DataFrames might be sufficient.\n",
      "\n",
      "5. Flexibility in Schema:\n",
      "\n",
      "DataFrames are flexible in terms of schema changes. \n",
      "\n",
      "\n"
     ]
    }
   ],
   "source": [
    "print(\"\"\" \n",
    "      \n",
    "B . When to Use a DataFrame (multiple DataFrames) :\n",
    "\n",
    "1. Small to Medium-Scale Data:\n",
    "\n",
    "For small to medium-scale datasets that can fit comfortably in memory, using a collection of DataFrames may be simple solution than setting up a database.\n",
    "     \n",
    "2. Prototyping and Development:\n",
    "\n",
    "During the early stages of development, using DataFrames is simpler.\n",
    "      \n",
    "3. Analytical Workflows:\n",
    "\n",
    "If our application involves extensive data analysis, and visualization, working with DataFrames in packages like Pandas is convenient. \n",
    "\n",
    "4. Single-User Applications:\n",
    "\n",
    "If our application is single-user and doesn't require concurrent access to the data, using a collection of DataFrames might be sufficient.\n",
    "\n",
    "5. Flexibility in Schema:\n",
    "\n",
    "DataFrames are flexible in terms of schema changes. \n",
    "\n",
    "\"\"\")\n"
   ]
  },
  {
   "cell_type": "code",
   "execution_count": null,
   "id": "5c6f0738",
   "metadata": {},
   "outputs": [],
   "source": [
    " \n"
   ]
  },
  {
   "cell_type": "code",
   "execution_count": 50,
   "id": "4138109d",
   "metadata": {},
   "outputs": [],
   "source": [
    "\t# Re-writing the piece of code above"
   ]
  },
  {
   "cell_type": "code",
   "execution_count": 51,
   "id": "148ff759",
   "metadata": {},
   "outputs": [
    {
     "name": "stdout",
     "output_type": "stream",
     "text": [
      "  project subject condition  age sex treatment response sample sample_type  \\\n",
      "0    prj1    sbj1  melanoma   70   F       tr1        y     s1        PBMC   \n",
      "1    prj1    sbj1  melanoma   70   F       tr1        y     s2        PBMC   \n",
      "\n",
      "   time_from_treatment_start  b_cell  cd8_t_cell  cd4_t_cell  nk_cell  \\\n",
      "0                        0.0   36000       24000       42000     6000   \n",
      "1                        7.0   30000       22000       40000     2000   \n",
      "\n",
      "   monocyte  \n",
      "0     12000  \n",
      "1      6000  \n"
     ]
    }
   ],
   "source": [
    "query_result = pd.read_sql('SELECT * FROM cell_counts', conn)\n",
    "print(query_result.head(2))"
   ]
  },
  {
   "cell_type": "code",
   "execution_count": null,
   "id": "2a539185",
   "metadata": {},
   "outputs": [],
   "source": [
    "\n"
   ]
  },
  {
   "cell_type": "code",
   "execution_count": 52,
   "id": "4b256655",
   "metadata": {},
   "outputs": [],
   "source": [
    "# Based on the schema you provide in (1), please write a query to summarize the number of subjects available for each condition."
   ]
  },
  {
   "cell_type": "code",
   "execution_count": 53,
   "id": "cf966c46",
   "metadata": {},
   "outputs": [
    {
     "name": "stdout",
     "output_type": "stream",
     "text": [
      "  condition  num_subjects\n",
      "0   healthy             4\n",
      "1      lung             4\n",
      "2  melanoma             9\n"
     ]
    }
   ],
   "source": [
    "query2 = 'SELECT condition, COUNT(*) AS num_subjects FROM cell_counts GROUP BY condition;'\n",
    "query2_results = pd.read_sql(query2, conn)\n",
    "\n",
    "# Print the result\n",
    "print(query2_results)"
   ]
  },
  {
   "cell_type": "code",
   "execution_count": null,
   "id": "94a10f95",
   "metadata": {},
   "outputs": [],
   "source": []
  },
  {
   "cell_type": "code",
   "execution_count": 54,
   "id": "0e725760",
   "metadata": {},
   "outputs": [],
   "source": [
    "# Please write a query that returns all melanoma PBMC samples at baseline (time_from_treatment_start is 0) from patients who have treatment tr1."
   ]
  },
  {
   "cell_type": "code",
   "execution_count": 67,
   "id": "32e5c8a0",
   "metadata": {},
   "outputs": [
    {
     "name": "stdout",
     "output_type": "stream",
     "text": [
      "  project subject condition  age sex treatment response sample sample_type  \\\n",
      "0    prj1    sbj1  melanoma   70   F       tr1        y     s1        PBMC   \n",
      "1    prj1    sbj1  melanoma   70   F       tr1        y     s2        PBMC   \n",
      "\n",
      "   time_from_treatment_start  b_cell  cd8_t_cell  cd4_t_cell  nk_cell  \\\n",
      "0                        0.0   36000       24000       42000     6000   \n",
      "1                        7.0   30000       22000       40000     2000   \n",
      "\n",
      "   monocyte  \n",
      "0     12000  \n",
      "1      6000  \n",
      "(9, 15)\n"
     ]
    }
   ],
   "source": [
    "query3 = 'SELECT * FROM cell_counts WHERE condition = \"melanoma\" AND sample_type = \"PBMC\" AND time_from_treatment_start >= 0 AND treatment = \"tr1\";'\n",
    "str(query3)\n",
    "\n",
    "query3_results = pd.read_sql(query3, conn)\n",
    "\n",
    "# Print the result\n",
    "print(query3_results.head(2))\n",
    "print(query3_results.shape)"
   ]
  },
  {
   "cell_type": "code",
   "execution_count": null,
   "id": "869858ab",
   "metadata": {},
   "outputs": [],
   "source": []
  },
  {
   "cell_type": "code",
   "execution_count": 56,
   "id": "f10e7530",
   "metadata": {},
   "outputs": [],
   "source": [
    "# create a new table based on the filtering criteria listed above"
   ]
  },
  {
   "cell_type": "code",
   "execution_count": 57,
   "id": "bfcc30db",
   "metadata": {},
   "outputs": [],
   "source": [
    "create_table_query = \"CREATE TABLE melanoma_samples_TREAT1 AS SELECT * FROM cell_counts WHERE condition = 'melanoma' AND sample_type = 'PBMC' AND time_from_treatment_start >= 0 AND treatment = 'tr1'\";"
   ]
  },
  {
   "cell_type": "code",
   "execution_count": 58,
   "id": "7efae735",
   "metadata": {},
   "outputs": [
    {
     "data": {
      "text/plain": [
       "<sqlite3.Cursor at 0x7f7e23744340>"
      ]
     },
     "execution_count": 58,
     "metadata": {},
     "output_type": "execute_result"
    }
   ],
   "source": [
    "cursor.execute(create_table_query)"
   ]
  },
  {
   "cell_type": "code",
   "execution_count": 59,
   "id": "69c6db3c",
   "metadata": {},
   "outputs": [],
   "source": [
    "# •\tHow many samples from each project "
   ]
  },
  {
   "cell_type": "code",
   "execution_count": 60,
   "id": "35b7717b",
   "metadata": {},
   "outputs": [
    {
     "name": "stdout",
     "output_type": "stream",
     "text": [
      "  project  num_samples\n",
      "0    prj1            5\n",
      "1    prj2            2\n",
      "2    prj3            2\n"
     ]
    }
   ],
   "source": [
    "query4 = 'SELECT project, COUNT(*) AS num_samples FROM melanoma_samples_TREAT1 GROUP BY project';\n",
    "query4_results = pd.read_sql(query4, conn)\n",
    "\n",
    "# Print the result\n",
    "print(query4_results)"
   ]
  },
  {
   "cell_type": "code",
   "execution_count": 61,
   "id": "c42392b0",
   "metadata": {},
   "outputs": [],
   "source": [
    "# •\tHow many responders/non-responders"
   ]
  },
  {
   "cell_type": "code",
   "execution_count": 62,
   "id": "184e8aac",
   "metadata": {},
   "outputs": [
    {
     "name": "stdout",
     "output_type": "stream",
     "text": [
      "  response  num_samples\n",
      "0        n            3\n",
      "1        y            6\n"
     ]
    }
   ],
   "source": [
    "query5 = 'SELECT response, COUNT(*) AS num_samples FROM melanoma_samples_TREAT1 GROUP BY response';\n",
    "query5_results = pd.read_sql(query5, conn)\n",
    "print(query5_results)"
   ]
  },
  {
   "cell_type": "code",
   "execution_count": 63,
   "id": "9737ab89",
   "metadata": {},
   "outputs": [],
   "source": [
    "# another way to write the same query"
   ]
  },
  {
   "cell_type": "code",
   "execution_count": 64,
   "id": "b78b8780",
   "metadata": {},
   "outputs": [
    {
     "name": "stdout",
     "output_type": "stream",
     "text": [
      "  response  sample_count\n",
      "0        n             3\n",
      "1        y             6\n"
     ]
    }
   ],
   "source": [
    "query6 = 'SELECT response, COUNT(sample) AS sample_count FROM melanoma_samples_TREAT1 GROUP BY response';\n",
    "query6_results = pd.read_sql(query6, conn)\n",
    "print(query6_results)"
   ]
  },
  {
   "cell_type": "code",
   "execution_count": 65,
   "id": "8636e6ed",
   "metadata": {},
   "outputs": [],
   "source": [
    "# How many males, females"
   ]
  },
  {
   "cell_type": "code",
   "execution_count": 66,
   "id": "53fd6f07",
   "metadata": {},
   "outputs": [
    {
     "name": "stdout",
     "output_type": "stream",
     "text": [
      "  sex  gender_count\n",
      "0   F             5\n",
      "1   M             4\n"
     ]
    }
   ],
   "source": [
    "query7='SELECT sex, COUNT(*) AS gender_count FROM melanoma_samples_TREAT1 GROUP BY sex';\n",
    "query7_results = pd.read_sql(query7, conn)\n",
    "print(query7_results)"
   ]
  },
  {
   "cell_type": "code",
   "execution_count": null,
   "id": "e2907344",
   "metadata": {},
   "outputs": [],
   "source": []
  },
  {
   "cell_type": "code",
   "execution_count": null,
   "id": "343e0154",
   "metadata": {},
   "outputs": [],
   "source": []
  }
 ],
 "metadata": {
  "kernelspec": {
   "display_name": "Python 3 (ipykernel)",
   "language": "python",
   "name": "python3"
  },
  "language_info": {
   "codemirror_mode": {
    "name": "ipython",
    "version": 3
   },
   "file_extension": ".py",
   "mimetype": "text/x-python",
   "name": "python",
   "nbconvert_exporter": "python",
   "pygments_lexer": "ipython3",
   "version": "3.9.13"
  }
 },
 "nbformat": 4,
 "nbformat_minor": 5
}
